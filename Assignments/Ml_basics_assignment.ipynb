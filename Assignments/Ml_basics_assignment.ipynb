{
  "nbformat": 4,
  "nbformat_minor": 0,
  "metadata": {
    "colab": {
      "name": "Copy of ML_assignment (1).ipynb",
      "provenance": [],
      "collapsed_sections": [],
      "toc_visible": true
    },
    "kernelspec": {
      "name": "python3",
      "display_name": "Python 3"
    },
    "language_info": {
      "name": "python"
    },
    "accelerator": "GPU"
  },
  "cells": [
    {
      "cell_type": "markdown",
      "metadata": {
        "id": "UkJr6Lh9aIem"
      },
      "source": [
        " Question 1 : Linear Regression\n",
        "To check whether you are able to build simple linear regression model from scratch or not."
      ]
    },
    {
      "cell_type": "code",
      "metadata": {
        "id": "wq1ZliSEuhTw",
        "colab": {
          "base_uri": "https://localhost:8080/"
        },
        "outputId": "754bc48a-9eab-45df-aab8-647d4f5f4460"
      },
      "source": [
        "import numpy as np\n",
        "import matplotlib.pyplot as plt\n",
        " \n",
        "!wget --no-check-certificate https://github.com/adigup390/datasets/raw/main/X.npy -O X.npy\n",
        "!wget --no-check-certificate https://github.com/adigup390/datasets/raw/main/y.npy -O y.npy"
      ],
      "execution_count": 2,
      "outputs": [
        {
          "output_type": "stream",
          "text": [
            "--2021-05-27 21:15:24--  https://github.com/adigup390/datasets/raw/main/X.npy\n",
            "Resolving github.com (github.com)... 140.82.114.3\n",
            "Connecting to github.com (github.com)|140.82.114.3|:443... connected.\n",
            "HTTP request sent, awaiting response... 302 Found\n",
            "Location: https://raw.githubusercontent.com/adigup390/datasets/main/X.npy [following]\n",
            "--2021-05-27 21:15:24--  https://raw.githubusercontent.com/adigup390/datasets/main/X.npy\n",
            "Resolving raw.githubusercontent.com (raw.githubusercontent.com)... 185.199.108.133, 185.199.109.133, 185.199.110.133, ...\n",
            "Connecting to raw.githubusercontent.com (raw.githubusercontent.com)|185.199.108.133|:443... connected.\n",
            "HTTP request sent, awaiting response... 200 OK\n",
            "Length: 528 [application/octet-stream]\n",
            "Saving to: ‘X.npy’\n",
            "\n",
            "\rX.npy                 0%[                    ]       0  --.-KB/s               \rX.npy               100%[===================>]     528  --.-KB/s    in 0s      \n",
            "\n",
            "2021-05-27 21:15:24 (33.7 MB/s) - ‘X.npy’ saved [528/528]\n",
            "\n",
            "--2021-05-27 21:15:24--  https://github.com/adigup390/datasets/raw/main/y.npy\n",
            "Resolving github.com (github.com)... 140.82.114.4\n",
            "Connecting to github.com (github.com)|140.82.114.4|:443... connected.\n",
            "HTTP request sent, awaiting response... 302 Found\n",
            "Location: https://raw.githubusercontent.com/adigup390/datasets/main/y.npy [following]\n",
            "--2021-05-27 21:15:24--  https://raw.githubusercontent.com/adigup390/datasets/main/y.npy\n",
            "Resolving raw.githubusercontent.com (raw.githubusercontent.com)... 185.199.108.133, 185.199.109.133, 185.199.110.133, ...\n",
            "Connecting to raw.githubusercontent.com (raw.githubusercontent.com)|185.199.108.133|:443... connected.\n",
            "HTTP request sent, awaiting response... 200 OK\n",
            "Length: 528 [application/octet-stream]\n",
            "Saving to: ‘y.npy’\n",
            "\n",
            "y.npy               100%[===================>]     528  --.-KB/s    in 0s      \n",
            "\n",
            "2021-05-27 21:15:24 (29.7 MB/s) - ‘y.npy’ saved [528/528]\n",
            "\n"
          ],
          "name": "stdout"
        }
      ]
    },
    {
      "cell_type": "code",
      "metadata": {
        "id": "021fTYdwTkZm"
      },
      "source": [
        "def load_data_LR():\n",
        "  # Implement this function to read the dataset using the path declared in path_X and path_y\n",
        "  # should return the X and y data\n",
        "  # use np.load() to load the data google it you will get to know how to do it\n",
        "\n",
        "  path_X = \"X.npy\"\n",
        "  path_y = \"y.npy\"\n",
        "\n",
        "  # Write your code here ----------\n",
        "  X = np.load(path_X)\n",
        "  y = np.load(path_y)\n",
        "  # -------------------------------\n",
        "\n",
        "  return X, y"
      ],
      "execution_count": 3,
      "outputs": []
    },
    {
      "cell_type": "code",
      "metadata": {
        "id": "Ngg3QUyTfBxC"
      },
      "source": [
        "def get_linear_model(X, y):\n",
        "  # This shoudl return a proper linear model without bias of type y = XW\n",
        "\n",
        "  # Write your code here ----------\n",
        "  D = X.shape[1]\n",
        "  out_shape = y.shape[1]\n",
        "  # -------------------------------\n",
        "  \n",
        "  W = np.random.randn(D, out_shape)\n",
        "\n",
        "  return W"
      ],
      "execution_count": 4,
      "outputs": []
    },
    {
      "cell_type": "code",
      "metadata": {
        "id": "c52FIGu-hlzM"
      },
      "source": [
        "def MSE(y, y_pred):\n",
        "  # should return the mean square error between the actual y and predicted y\n",
        "\n",
        "  # Write your code here ----------\n",
        "  m = y.shape[0]\n",
        "  error = np.dot((y-y_pred).T,(y-y_pred))/m\n",
        "  # -------------------------------\n",
        "\n",
        "  return error[0][0]"
      ],
      "execution_count": 5,
      "outputs": []
    },
    {
      "cell_type": "code",
      "metadata": {
        "id": "zrBrqA15hCdT"
      },
      "source": [
        "def train_by_algebra(X, y):\n",
        "  # should return the trained weight 'W' using the linear algebra method i.e. setting dE/dW = 0\n",
        "\n",
        "  # Write your code here ----------\n",
        "  W = np.linalg.multi_dot([(np.linalg.inv(np.dot(X.T,X))),X.T,y])\n",
        "  # -------------------------------\n",
        "\n",
        "  return W"
      ],
      "execution_count": 6,
      "outputs": []
    },
    {
      "cell_type": "code",
      "metadata": {
        "id": "kJ_r_R1PixX2"
      },
      "source": [
        "def train_by_GD(X, y, epochs=5, lr=0.01):\n",
        "  # should return the trained weight 'W' using the gradient descent for number of iterations equals to epochs\n",
        "  # should also return error history int the cariable error_hist.shape = (epochs,); error_hist[i] = mean square error after epoch i-1\n",
        "  # should also print mean square error after each epoch/ iteration\n",
        "  # lr = \"learning rate\" i.e. eta\n",
        "  \n",
        "  # Write your code here ----------\n",
        "  error_hist = []\n",
        "  m = y.shape[0]\n",
        "  W = get_linear_model(X,y)\n",
        "  for i in range(epochs):\n",
        "    y_pred = np.dot(X,W)\n",
        "    error = MSE(y, y_pred)\n",
        "    error_hist.append(error)\n",
        "    dW = (2/m)*np.dot(X.T,(y_pred-y))         #gradients\n",
        "    W = W - dW*lr                             #updating model parameters\n",
        "    print(\"mean square error after \",i+1,\" epoch:\",error)\n",
        "  # -------------------------------\n",
        "\n",
        "  return W, error_hist"
      ],
      "execution_count": 7,
      "outputs": []
    },
    {
      "cell_type": "markdown",
      "metadata": {
        "id": "uLTxFIOgkdjJ"
      },
      "source": [
        "### Now write a complete code using the function defined above to learn the model for following cases:"
      ]
    },
    {
      "cell_type": "markdown",
      "metadata": {
        "id": "eYW1AukM378a"
      },
      "source": [
        "##### Learn **W** using linear algebra method and prints mean square error between actual y and predicted y. Use `y_pred = XW`. Also plot y_pred and y on different plots."
      ]
    },
    {
      "cell_type": "code",
      "metadata": {
        "id": "AIRs0jB-kOZU",
        "colab": {
          "base_uri": "https://localhost:8080/"
        },
        "outputId": "eb853a0d-d8d9-4c95-e767-4d2b45f90202"
      },
      "source": [
        "# Write your code here ----------\n",
        "X,y = load_data_LR()\n",
        "W = train_by_algebra(X,y)\n",
        "y_pred = np.dot(X,W)\n",
        "print(MSE(y,y_pred))\n",
        "\n",
        "# -------------------------------"
      ],
      "execution_count": 8,
      "outputs": [
        {
          "output_type": "stream",
          "text": [
            "5.49005982064382\n"
          ],
          "name": "stdout"
        }
      ]
    },
    {
      "cell_type": "markdown",
      "metadata": {
        "id": "6kP77_sK4CpT"
      },
      "source": [
        " ##### Learn **W** using gradient descent method for following learning rates, `lr = [0.01, 0.001, 0.0001]` for **10 epochs**. Plot **MSE vs epochs** for each of them.  Also plot y_pred and y on different plots."
      ]
    },
    {
      "cell_type": "code",
      "metadata": {
        "id": "1bac27RT4G2H",
        "colab": {
          "base_uri": "https://localhost:8080/",
          "height": 1000
        },
        "outputId": "5de34e7b-592a-459b-e3c2-10fa82273230"
      },
      "source": [
        "# Write your code here ----------\n",
        "X,y = load_data_LR()\n",
        "lr = [0.01, 0.001, 0.0001]\n",
        "for i in lr:\n",
        "  W,error_hist = train_by_GD(X,y,100,i)\n",
        "  y_pred = np.dot(X,W)\n",
        "  plt.figure(1)\n",
        "  plt.plot(error_hist)\n",
        "  plt.figure(2)\n",
        "  plt.plot(X,y_pred)\n",
        "  plt.figure(3)\n",
        "  plt.plot(X,y)\n",
        "\n",
        "  print(MSE(y,y_pred))\n",
        "  \n",
        "\n",
        "\n",
        "# -------------------------------"
      ],
      "execution_count": 9,
      "outputs": [
        {
          "output_type": "stream",
          "text": [
            "mean square error after  1  epoch: 598.191277785577\n",
            "mean square error after  2  epoch: 422.00899744471263\n",
            "mean square error after  3  epoch: 298.1974478620622\n",
            "mean square error after  4  epoch: 211.18926644677376\n",
            "mean square error after  5  epoch: 150.04453755262398\n",
            "mean square error after  6  epoch: 107.07526948236715\n",
            "mean square error after  7  epoch: 76.87874998041782\n",
            "mean square error after  8  epoch: 55.65823981159861\n",
            "mean square error after  9  epoch: 40.745592286247536\n",
            "mean square error after  10  epoch: 30.265775616140886\n",
            "mean square error after  11  epoch: 22.901117043453272\n",
            "mean square error after  12  epoch: 17.7256261355852\n",
            "mean square error after  13  epoch: 14.088565995857628\n",
            "mean square error after  14  epoch: 11.532633293921128\n",
            "mean square error after  15  epoch: 9.736459536585947\n",
            "mean square error after  16  epoch: 8.474204014719035\n",
            "mean square error after  17  epoch: 7.587157872341731\n",
            "mean square error after  18  epoch: 6.963788954499581\n",
            "mean square error after  19  epoch: 6.525718386163349\n",
            "mean square error after  20  epoch: 6.217865656664531\n",
            "mean square error after  21  epoch: 6.001523108431225\n",
            "mean square error after  22  epoch: 5.849489055485593\n",
            "mean square error after  23  epoch: 5.742647597603954\n",
            "mean square error after  24  epoch: 5.667565095354568\n",
            "mean square error after  25  epoch: 5.614801100405396\n",
            "mean square error after  26  epoch: 5.577721367050888\n",
            "mean square error after  27  epoch: 5.55166369975398\n",
            "mean square error after  28  epoch: 5.533351755100421\n",
            "mean square error after  29  epoch: 5.520483092945277\n",
            "mean square error after  30  epoch: 5.511439680637294\n",
            "mean square error after  31  epoch: 5.5050844507628725\n",
            "mean square error after  32  epoch: 5.500618332733384\n",
            "mean square error after  33  epoch: 5.497479782177789\n",
            "mean square error after  34  epoch: 5.495274175535737\n",
            "mean square error after  35  epoch: 5.49372419232747\n",
            "mean square error after  36  epoch: 5.492634946448311\n",
            "mean square error after  37  epoch: 5.491869482294286\n",
            "mean square error after  38  epoch: 5.491331554740636\n",
            "mean square error after  39  epoch: 5.490953527825264\n",
            "mean square error after  40  epoch: 5.490687870586152\n",
            "mean square error after  41  epoch: 5.490501180787558\n",
            "mean square error after  42  epoch: 5.490369985112201\n",
            "mean square error after  43  epoch: 5.490277787759364\n",
            "mean square error after  44  epoch: 5.49021299635639\n",
            "mean square error after  45  epoch: 5.490167464399455\n",
            "mean square error after  46  epoch: 5.490135466958321\n",
            "mean square error after  47  epoch: 5.4901129808560745\n",
            "mean square error after  48  epoch: 5.490097178817654\n",
            "mean square error after  49  epoch: 5.490086073984296\n",
            "mean square error after  50  epoch: 5.490078270097193\n",
            "mean square error after  51  epoch: 5.490072785939803\n",
            "mean square error after  52  epoch: 5.490068931965247\n",
            "mean square error after  53  epoch: 5.490066223596617\n",
            "mean square error after  54  epoch: 5.490064320298987\n",
            "mean square error after  55  epoch: 5.4900629827624945\n",
            "mean square error after  56  epoch: 5.490062042812884\n",
            "mean square error after  57  epoch: 5.4900613822662185\n",
            "mean square error after  58  epoch: 5.490060918069106\n",
            "mean square error after  59  epoch: 5.490060591856027\n",
            "mean square error after  60  epoch: 5.490060362610798\n",
            "mean square error after  61  epoch: 5.490060201509429\n",
            "mean square error after  62  epoch: 5.4900600882959445\n",
            "mean square error after  63  epoch: 5.490060008735517\n",
            "mean square error after  64  epoch: 5.4900599528246765\n",
            "mean square error after  65  epoch: 5.490059913533506\n",
            "mean square error after  66  epoch: 5.4900598859217595\n",
            "mean square error after  67  epoch: 5.490059866517689\n",
            "mean square error after  68  epoch: 5.49005985288154\n",
            "mean square error after  69  epoch: 5.490059843298778\n",
            "mean square error after  70  epoch: 5.490059836564523\n",
            "mean square error after  71  epoch: 5.490059831832045\n",
            "mean square error after  72  epoch: 5.490059828506309\n",
            "mean square error after  73  epoch: 5.490059826169159\n",
            "mean square error after  74  epoch: 5.490059824526736\n",
            "mean square error after  75  epoch: 5.490059823372528\n",
            "mean square error after  76  epoch: 5.4900598225614115\n",
            "mean square error after  77  epoch: 5.4900598219914025\n",
            "mean square error after  78  epoch: 5.4900598215908305\n",
            "mean square error after  79  epoch: 5.4900598213093295\n",
            "mean square error after  80  epoch: 5.490059821111504\n",
            "mean square error after  81  epoch: 5.490059820972483\n",
            "mean square error after  82  epoch: 5.490059820874788\n",
            "mean square error after  83  epoch: 5.490059820806133\n",
            "mean square error after  84  epoch: 5.490059820757884\n",
            "mean square error after  85  epoch: 5.49005982072398\n",
            "mean square error after  86  epoch: 5.490059820700153\n",
            "mean square error after  87  epoch: 5.490059820683404\n",
            "mean square error after  88  epoch: 5.490059820671641\n",
            "mean square error after  89  epoch: 5.490059820663372\n",
            "mean square error after  90  epoch: 5.490059820657558\n",
            "mean square error after  91  epoch: 5.490059820653476\n",
            "mean square error after  92  epoch: 5.490059820650606\n",
            "mean square error after  93  epoch: 5.490059820648588\n",
            "mean square error after  94  epoch: 5.490059820647173\n",
            "mean square error after  95  epoch: 5.490059820646177\n",
            "mean square error after  96  epoch: 5.4900598206454765\n",
            "mean square error after  97  epoch: 5.490059820644982\n",
            "mean square error after  98  epoch: 5.490059820644637\n",
            "mean square error after  99  epoch: 5.490059820644394\n",
            "mean square error after  100  epoch: 5.490059820644225\n",
            "5.490059820644105\n",
            "mean square error after  1  epoch: 780.2358455225989\n",
            "mean square error after  2  epoch: 755.3831387413646\n",
            "mean square error after  3  epoch: 731.3276702875315\n",
            "mean square error after  4  epoch: 708.0438659266198\n",
            "mean square error after  5  epoch: 685.5069718080258\n",
            "mean square error after  6  epoch: 663.6930281483127\n",
            "mean square error after  7  epoch: 642.5788437587012\n",
            "mean square error after  8  epoch: 622.141971389683\n",
            "mean square error after  9  epoch: 602.3606838665412\n",
            "mean square error after  10  epoch: 583.2139509904084\n",
            "mean square error after  11  epoch: 564.6814171803061\n",
            "mean square error after  12  epoch: 546.7433798323931\n",
            "mean square error after  13  epoch: 529.3807683734179\n",
            "mean square error after  14  epoch: 512.5751239861066\n",
            "mean square error after  15  epoch: 496.3085799849292\n",
            "mean square error after  16  epoch: 480.56384282138345\n",
            "mean square error after  17  epoch: 465.32417369859945\n",
            "mean square error after  18  epoch: 450.57337077572464\n",
            "mean square error after  19  epoch: 436.295751943161\n",
            "mean square error after  20  epoch: 422.47613815035186\n",
            "mean square error after  21  epoch: 409.0998372683852\n",
            "mean square error after  22  epoch: 396.15262847026383\n",
            "mean square error after  23  epoch: 383.62074711223096\n",
            "mean square error after  24  epoch: 371.49087010008355\n",
            "mean square error after  25  epoch: 359.7501017249093\n",
            "mean square error after  26  epoch: 348.385959953196\n",
            "mean square error after  27  epoch: 337.3863631567315\n",
            "mean square error after  28  epoch: 326.7396172681897\n",
            "mean square error after  29  epoch: 316.4344033487474\n",
            "mean square error after  30  epoch: 306.4597655545121\n",
            "mean square error after  31  epoch: 296.8050994889703\n",
            "mean square error after  32  epoch: 287.46014092907217\n",
            "mean square error after  33  epoch: 278.41495491296587\n",
            "mean square error after  34  epoch: 269.6599251777826\n",
            "mean square error after  35  epoch: 261.1857439362408\n",
            "mean square error after  36  epoch: 252.98340198120283\n",
            "mean square error after  37  epoch: 245.04417910766242\n",
            "mean square error after  38  epoch: 237.35963484198064\n",
            "mean square error after  39  epoch: 229.9215994685149\n",
            "mean square error after  40  epoch: 222.7221653440998\n",
            "mean square error after  41  epoch: 215.75367849114718\n",
            "mean square error after  42  epoch: 209.00873046042685\n",
            "mean square error after  43  epoch: 202.48015045487796\n",
            "mean square error after  44  epoch: 196.16099770607588\n",
            "mean square error after  45  epoch: 190.04455409525187\n",
            "mean square error after  46  epoch: 184.12431701101906\n",
            "mean square error after  47  epoch: 178.39399243621224\n",
            "mean square error after  48  epoch: 172.84748825649135\n",
            "mean square error after  49  epoch: 167.47890778359601\n",
            "mean square error after  50  epoch: 162.28254348636332\n",
            "mean square error after  51  epoch: 157.25287092284628\n",
            "mean square error after  52  epoch: 152.38454286708088\n",
            "mean square error after  53  epoch: 147.67238362425732\n",
            "mean square error after  54  epoch: 143.11138352825287\n",
            "mean square error after  55  epoch: 138.69669361567512\n",
            "mean square error after  56  epoch: 134.42362047075488\n",
            "mean square error after  57  epoch: 130.28762123560657\n",
            "mean square error after  58  epoch: 126.28429878055256\n",
            "mean square error after  59  epoch: 122.4093970293763\n",
            "mean square error after  60  epoch: 118.65879643453457\n",
            "mean square error after  61  epoch: 115.02850959751814\n",
            "mean square error after  62  epoch: 111.51467702970487\n",
            "mean square error after  63  epoch: 108.11356304919843\n",
            "mean square error after  64  epoch: 104.82155180929033\n",
            "mean square error after  65  epoch: 101.63514345432316\n",
            "mean square error after  66  epoch: 98.55095039886807\n",
            "mean square error after  67  epoch: 95.5656937262608\n",
            "mean square error after  68  epoch: 92.67619970266723\n",
            "mean square error after  69  epoch: 89.87939640297282\n",
            "mean square error after  70  epoch: 87.17231044490819\n",
            "mean square error after  71  epoch: 84.55206382793975\n",
            "mean square error after  72  epoch: 82.01587087356336\n",
            "mean square error after  73  epoch: 79.56103526374956\n",
            "mean square error after  74  epoch: 77.18494717439056\n",
            "mean square error after  75  epoch: 74.8850805007024\n",
            "mean square error after  76  epoch: 72.658990171632\n",
            "mean square error after  77  epoch: 70.50430955041408\n",
            "mean square error after  78  epoch: 68.41874791851447\n",
            "mean square error after  79  epoch: 66.40008804028471\n",
            "mean square error after  80  epoch: 64.44618380573912\n",
            "mean square error after  81  epoch: 62.554957948947774\n",
            "mean square error after  82  epoch: 60.724399839620666\n",
            "mean square error after  83  epoch: 58.95256334553391\n",
            "mean square error after  84  epoch: 57.237564763526876\n",
            "mean square error after  85  epoch: 55.5775808168692\n",
            "mean square error after  86  epoch: 53.970846716869886\n",
            "mean square error after  87  epoch: 52.41565428666681\n",
            "mean square error after  88  epoch: 50.91035014520251\n",
            "mean square error after  89  epoch: 49.45333394945514\n",
            "mean square error after  90  epoch: 48.04305669305626\n",
            "mean square error after  91  epoch: 46.67801905948639\n",
            "mean square error after  92  epoch: 45.35676982809763\n",
            "mean square error after  93  epoch: 44.07790433126884\n",
            "mean square error after  94  epoch: 42.84006296105279\n",
            "mean square error after  95  epoch: 41.64192972372807\n",
            "mean square error after  96  epoch: 40.48223084071883\n",
            "mean square error after  97  epoch: 39.35973339439482\n",
            "mean square error after  98  epoch: 38.27324401731241\n",
            "mean square error after  99  epoch: 37.22160762350256\n",
            "mean square error after  100  epoch: 36.20370618045741\n",
            "35.21845752050973\n",
            "mean square error after  1  epoch: 672.141467338959\n",
            "mean square error after  2  epoch: 669.9872597731468\n",
            "mean square error after  3  epoch: 667.8400132820196\n",
            "mean square error after  4  epoch: 665.699705371663\n",
            "mean square error after  5  epoch: 663.566313620849\n",
            "mean square error after  6  epoch: 661.4398156808011\n",
            "mean square error after  7  epoch: 659.3201892749606\n",
            "mean square error after  8  epoch: 657.2074121987528\n",
            "mean square error after  9  epoch: 655.1014623193541\n",
            "mean square error after  10  epoch: 653.0023175754618\n",
            "mean square error after  11  epoch: 650.9099559770605\n",
            "mean square error after  12  epoch: 648.8243556051934\n",
            "mean square error after  13  epoch: 646.7454946117326\n",
            "mean square error after  14  epoch: 644.6733512191498\n",
            "mean square error after  15  epoch: 642.607903720288\n",
            "mean square error after  16  epoch: 640.5491304781348\n",
            "mean square error after  17  epoch: 638.4970099255949\n",
            "mean square error after  18  epoch: 636.4515205652648\n",
            "mean square error after  19  epoch: 634.4126409692076\n",
            "mean square error after  20  epoch: 632.3803497787278\n",
            "mean square error after  21  epoch: 630.3546257041488\n",
            "mean square error after  22  epoch: 628.3354475245884\n",
            "mean square error after  23  epoch: 626.3227940877377\n",
            "mean square error after  24  epoch: 624.3166443096391\n",
            "mean square error after  25  epoch: 622.316977174465\n",
            "mean square error after  26  epoch: 620.3237717342986\n",
            "mean square error after  27  epoch: 618.3370071089132\n",
            "mean square error after  28  epoch: 616.3566624855547\n",
            "mean square error after  29  epoch: 614.3827171187229\n",
            "mean square error after  30  epoch: 612.415150329954\n",
            "mean square error after  31  epoch: 610.4539415076049\n",
            "mean square error after  32  epoch: 608.4990701066362\n",
            "mean square error after  33  epoch: 606.5505156483973\n",
            "mean square error after  34  epoch: 604.6082577204126\n",
            "mean square error after  35  epoch: 602.6722759761666\n",
            "mean square error after  36  epoch: 600.7425501348912\n",
            "mean square error after  37  epoch: 598.8190599813535\n",
            "mean square error after  38  epoch: 596.9017853656438\n",
            "mean square error after  39  epoch: 594.9907062029646\n",
            "mean square error after  40  epoch: 593.0858024734198\n",
            "mean square error after  41  epoch: 591.1870542218054\n",
            "mean square error after  42  epoch: 589.2944415574007\n",
            "mean square error after  43  epoch: 587.407944653759\n",
            "mean square error after  44  epoch: 585.5275437485012\n",
            "mean square error after  45  epoch: 583.6532191431073\n",
            "mean square error after  46  epoch: 581.7849512027113\n",
            "mean square error after  47  epoch: 579.9227203558949\n",
            "mean square error after  48  epoch: 578.0665070944826\n",
            "mean square error after  49  epoch: 576.2162919733375\n",
            "mean square error after  50  epoch: 574.3720556101567\n",
            "mean square error after  51  epoch: 572.5337786852702\n",
            "mean square error after  52  epoch: 570.7014419414362\n",
            "mean square error after  53  epoch: 568.8750261836411\n",
            "mean square error after  54  epoch: 567.0545122788975\n",
            "mean square error after  55  epoch: 565.2398811560442\n",
            "mean square error after  56  epoch: 563.4311138055461\n",
            "mean square error after  57  epoch: 561.6281912792954\n",
            "mean square error after  58  epoch: 559.8310946904129\n",
            "mean square error after  59  epoch: 558.0398052130502\n",
            "mean square error after  60  epoch: 556.2543040821924\n",
            "mean square error after  61  epoch: 554.4745725934617\n",
            "mean square error after  62  epoch: 552.7005921029211\n",
            "mean square error after  63  epoch: 550.9323440268796\n",
            "mean square error after  64  epoch: 549.1698098416973\n",
            "mean square error after  65  epoch: 547.4129710835911\n",
            "mean square error after  66  epoch: 545.6618093484417\n",
            "mean square error after  67  epoch: 543.9163062916004\n",
            "mean square error after  68  epoch: 542.1764436276973\n",
            "mean square error after  69  epoch: 540.4422031304495\n",
            "mean square error after  70  epoch: 538.7135666324704\n",
            "mean square error after  71  epoch: 536.9905160250786\n",
            "mean square error after  72  epoch: 535.2730332581098\n",
            "mean square error after  73  epoch: 533.561100339726\n",
            "mean square error after  74  epoch: 531.8546993362284\n",
            "mean square error after  75  epoch: 530.1538123718677\n",
            "mean square error after  76  epoch: 528.4584216286596\n",
            "mean square error after  77  epoch: 526.7685093461954\n",
            "mean square error after  78  epoch: 525.0840578214577\n",
            "mean square error after  79  epoch: 523.4050494086341\n",
            "mean square error after  80  epoch: 521.7314665189326\n",
            "mean square error after  81  epoch: 520.0632916203979\n",
            "mean square error after  82  epoch: 518.4005072377263\n",
            "mean square error after  83  epoch: 516.7430959520844\n",
            "mean square error after  84  epoch: 515.0910404009252\n",
            "mean square error after  85  epoch: 513.4443232778068\n",
            "mean square error after  86  epoch: 511.80292733221154\n",
            "mean square error after  87  epoch: 510.1668353693643\n",
            "mean square error after  88  epoch: 508.5360302500533\n",
            "mean square error after  89  epoch: 506.9104948904499\n",
            "mean square error after  90  epoch: 505.29021226193015\n",
            "mean square error after  91  epoch: 503.67516539089587\n",
            "mean square error after  92  epoch: 502.06533735859716\n",
            "mean square error after  93  epoch: 500.4607113009552\n",
            "mean square error after  94  epoch: 498.8612704083857\n",
            "mean square error after  95  epoch: 497.2669979256222\n",
            "mean square error after  96  epoch: 495.6778771515412\n",
            "mean square error after  97  epoch: 494.093891438987\n",
            "mean square error after  98  epoch: 492.5150241945971\n",
            "mean square error after  99  epoch: 490.94125887862884\n",
            "mean square error after  100  epoch: 489.37257900478556\n",
            "487.8089681400443\n"
          ],
          "name": "stdout"
        },
        {
          "output_type": "display_data",
          "data": {
            "image/png": "[encoded data removed]",
            "text/plain": [
              "<Figure size 432x288 with 1 Axes>"
            ]
          },
          "metadata": {
            "tags": [],
            "needs_background": "light"
          }
        },
        {
          "output_type": "display_data",
          "data": {
            "image/png": "[encoded data removed]",
            "text/plain": [
              "<Figure size 432x288 with 1 Axes>"
            ]
          },
          "metadata": {
            "tags": [],
            "needs_background": "light"
          }
        },
        {
          "output_type": "display_data",
          "data": {
            "image/png": "[encoded data removed]",
            "text/plain": [
              "<Figure size 432x288 with 1 Axes>"
            ]
          },
          "metadata": {
            "tags": [],
            "needs_background": "light"
          }
        }
      ]
    },
    {
      "cell_type": "markdown",
      "metadata": {
        "id": "4zJO-LIvn6sD"
      },
      "source": [
        "## Question 2: Image Classification in Tensorflow using Deep Learning\n",
        "To check whether you are able to build a given neural network model in tensorflow or not. First we will build a fully connected NN model second we will build a CNN model."
      ]
    },
    {
      "cell_type": "code",
      "metadata": {
        "id": "7mynGfqRn24b"
      },
      "source": [
        "import numpy as np\n",
        "import tensorflow as tf\n",
        "import matplotlib.pyplot as plt"
      ],
      "execution_count": 10,
      "outputs": []
    },
    {
      "cell_type": "code",
      "metadata": {
        "id": "s8WKt-qY4agV"
      },
      "source": [
        "def plot_history(history):\n",
        "  # function to plot accuracy vs epoch\n",
        "\n",
        "  plt.plot(history.history['accuracy'], label='accuracy')\n",
        "  plt.plot(history.history['val_accuracy'], label = 'val_accuracy')\n",
        "  plt.xlabel('Epoch')\n",
        "  plt.ylabel('Accuracy')\n",
        "  plt.legend(loc='lower right')"
      ],
      "execution_count": 11,
      "outputs": []
    },
    {
      "cell_type": "code",
      "metadata": {
        "id": "tCT9Kmhhn5I_"
      },
      "source": [
        "def load_data_cifar10_norm():\n",
        "  # should return the normalised cifar10 dataset by loading it from tensorflow\n",
        "  # link: https://www.tensorflow.org/api_docs/python/tf/keras/datasets/cifar10/\n",
        "\n",
        "  # Write your code here ----------\n",
        "  (x_train, y_train), (x_test, y_test)=tf.keras.datasets.cifar10.load_data()\n",
        "  # -------------------------------\n",
        "\n",
        "  return x_train/255.0, y_train, x_test/255.0, y_test"
      ],
      "execution_count": 12,
      "outputs": []
    },
    {
      "cell_type": "markdown",
      "metadata": {
        "id": "LDpHSTRPvS9t"
      },
      "source": [
        " Define a fully connected neural network model with following attributes:\n",
        "\n",
        "*   Total number of **hidden layers = 4**, all with **relu** activation\n",
        "*   Number of neurons in **first hidden layer = 7200**\n",
        "*   Number of neurons in **second hidden layer = 2304**\n",
        "*   Number of neurons in **third hidden layer = 1024**\n",
        "*   Number of neurons in **fourth hidden layer = 64**\n"
      ]
    },
    {
      "cell_type": "code",
      "metadata": {
        "id": "VYYQzIWnqU3t"
      },
      "source": [
        "def build_fc_model(input_shape=(32, 32, 3), num_class=10):\n",
        "  # should return a sequential model defined based on the above attributes\n",
        "  # do not compile the model\n",
        "\n",
        "  # Write your code here ----------\n",
        "  model = tf.keras.models.Sequential(tf.keras.layers.Flatten())\n",
        "  model.add(tf.keras.layers.Dense(7200,activation=tf.nn.relu))\n",
        "  model.add(tf.keras.layers.Dense(2304,activation=tf.nn.relu))\n",
        "  model.add(tf.keras.layers.Dense(1024,activation=tf.nn.relu))\n",
        "  model.add(tf.keras.layers.Dense(64,activation=tf.nn.relu))\n",
        "  model.add(tf.keras.layers.Dropout(0.3))\n",
        "  model.add(tf.keras.layers.Dense(10,activation=tf.nn.softmax))\n",
        "\n",
        "\n",
        "  # -------------------------------\n",
        "\n",
        "  return model"
      ],
      "execution_count": 13,
      "outputs": []
    },
    {
      "cell_type": "markdown",
      "metadata": {
        "id": "pdcQ2yqz1RYH"
      },
      "source": [
        "### Define a CNN model with following attribute:\n",
        "\n",
        "*   Total number of **hidden layer = 4**\n",
        "*   After every convolutional layer there must be a MaxPoolingLayer of size (2, 2)\n",
        "*   Total number of convolutional layer = 3, all with **relu** activation.\n",
        "    *    Number of filters in **first convolutional layer = 32**\n",
        "    *    Number of filters in **second convolutional layer = 64**\n",
        "    *    Number of filters in **third convolutional layer = 64**\n",
        "*   After all convolutional layer flatten the output and use **dense layer of 64 neurons**\n",
        "\n"
      ]
    },
    {
      "cell_type": "code",
      "metadata": {
        "id": "T00AYU3D3L1j"
      },
      "source": [
        "def build_cnn_model(input_shape=(32, 32, 3), num_class=10):\n",
        "  # should return a sequential model defined based on the above attributes\n",
        "  # do not compile the model\n",
        "\n",
        "  # Write your code here ----------\n",
        "  model =tf.keras.models.Sequential([tf.keras.layers.Conv2D(32,(3,3),activation='relu',input_shape=input_shape),\n",
        "                                     tf.keras.layers.MaxPooling2D((2,2)),\n",
        "                                     tf.keras.layers.Conv2D(64,(3,3),activation='relu'),\n",
        "                                     tf.keras.layers.MaxPooling2D((2,2)),\n",
        "                                     tf.keras.layers.Conv2D(64,(3,3),activation='relu'),\n",
        "                                     tf.keras.layers.MaxPooling2D((2,2)),\n",
        "                                     tf.keras.layers.Flatten(),\n",
        "                                     tf.keras.layers.Dense(64,activation = 'relu'),\n",
        "                                     tf.keras.layers.Dense(10,activation='softmax')])\n",
        "  # -------------------------------\n",
        "\n",
        "  return model"
      ],
      "execution_count": 14,
      "outputs": []
    },
    {
      "cell_type": "markdown",
      "metadata": {
        "id": "7SXXUeRp4Urq"
      },
      "source": [
        "### Compile and train the fully connected neural network model using the above functions."
      ]
    },
    {
      "cell_type": "code",
      "metadata": {
        "id": "61_XiEUR3eV0",
        "colab": {
          "base_uri": "https://localhost:8080/",
          "height": 1000
        },
        "outputId": "f571e67f-58c3-43f5-c4ad-532ab11de43c"
      },
      "source": [
        "# Write your code here ----------\n",
        "x_train,y_train,x_test,y_test=load_data_cifar10_norm()\n",
        "model = build_fc_model()\n",
        "model.compile(optimizer =tf.keras.optimizers.Adam(lr =0.0001),loss ='sparse_categorical_crossentropy',metrics =['accuracy'])\n",
        "# -------------------------------\n",
        "\n",
        "history = model.fit(x_train, y_train, epochs=10, batch_size=512,\n",
        "                    validation_data=(x_test, y_test))\n",
        "\n",
        "plot_history(history)\n",
        "model.summary()"
      ],
      "execution_count": 15,
      "outputs": [
        {
          "output_type": "stream",
          "text": [
            "/usr/local/lib/python3.7/dist-packages/tensorflow/python/keras/optimizer_v2/optimizer_v2.py:375: UserWarning: The `lr` argument is deprecated, use `learning_rate` instead.\n",
            "  \"The `lr` argument is deprecated, use `learning_rate` instead.\")\n"
          ],
          "name": "stderr"
        },
        {
          "output_type": "stream",
          "text": [
            "Epoch 1/10\n",
            "98/98 [==============================] - 7s 36ms/step - loss: 2.0867 - accuracy: 0.2333 - val_loss: 1.8835 - val_accuracy: 0.3419\n",
            "Epoch 2/10\n",
            "98/98 [==============================] - 3s 33ms/step - loss: 1.8945 - accuracy: 0.3241 - val_loss: 1.7219 - val_accuracy: 0.3968\n",
            "Epoch 3/10\n",
            "98/98 [==============================] - 3s 33ms/step - loss: 1.7661 - accuracy: 0.3772 - val_loss: 1.6250 - val_accuracy: 0.4298\n",
            "Epoch 4/10\n",
            "98/98 [==============================] - 3s 33ms/step - loss: 1.6840 - accuracy: 0.4048 - val_loss: 1.5802 - val_accuracy: 0.4420\n",
            "Epoch 5/10\n",
            "98/98 [==============================] - 3s 33ms/step - loss: 1.6239 - accuracy: 0.4304 - val_loss: 1.5416 - val_accuracy: 0.4582\n",
            "Epoch 6/10\n",
            "98/98 [==============================] - 3s 33ms/step - loss: 1.5645 - accuracy: 0.4506 - val_loss: 1.4903 - val_accuracy: 0.4778\n",
            "Epoch 7/10\n",
            "98/98 [==============================] - 3s 33ms/step - loss: 1.5140 - accuracy: 0.4696 - val_loss: 1.4520 - val_accuracy: 0.4856\n",
            "Epoch 8/10\n",
            "98/98 [==============================] - 3s 33ms/step - loss: 1.4686 - accuracy: 0.4853 - val_loss: 1.4582 - val_accuracy: 0.4774\n",
            "Epoch 9/10\n",
            "98/98 [==============================] - 3s 33ms/step - loss: 1.4317 - accuracy: 0.5011 - val_loss: 1.4087 - val_accuracy: 0.5010\n",
            "Epoch 10/10\n",
            "98/98 [==============================] - 3s 33ms/step - loss: 1.3966 - accuracy: 0.5127 - val_loss: 1.3754 - val_accuracy: 0.5182\n",
            "Model: \"sequential\"\n",
            "_________________________________________________________________\n",
            "Layer (type)                 Output Shape              Param #   \n",
            "=================================================================\n",
            "flatten (Flatten)            (None, 3072)              0         \n",
            "_________________________________________________________________\n",
            "dense (Dense)                (None, 7200)              22125600  \n",
            "_________________________________________________________________\n",
            "dense_1 (Dense)              (None, 2304)              16591104  \n",
            "_________________________________________________________________\n",
            "dense_2 (Dense)              (None, 1024)              2360320   \n",
            "_________________________________________________________________\n",
            "dense_3 (Dense)              (None, 64)                65600     \n",
            "_________________________________________________________________\n",
            "dropout (Dropout)            (None, 64)                0         \n",
            "_________________________________________________________________\n",
            "dense_4 (Dense)              (None, 10)                650       \n",
            "=================================================================\n",
            "Total params: 41,143,274\n",
            "Trainable params: 41,143,274\n",
            "Non-trainable params: 0\n",
            "_________________________________________________________________\n"
          ],
          "name": "stdout"
        },
        {
          "output_type": "display_data",
          "data": {
            "image/png": "[encoded data removed]",
            "text/plain": [
              "<Figure size 432x288 with 1 Axes>"
            ]
          },
          "metadata": {
            "tags": [],
            "needs_background": "light"
          }
        }
      ]
    },
    {
      "cell_type": "markdown",
      "metadata": {
        "id": "Z_yHXGc47ENb"
      },
      "source": [
        "### Compile and train the CNN model using the above functions."
      ]
    },
    {
      "cell_type": "code",
      "metadata": {
        "id": "aM9rueu97Gnq",
        "colab": {
          "base_uri": "https://localhost:8080/",
          "height": 1000
        },
        "outputId": "348e6e8b-177b-47e1-8b8b-541081e3a4da"
      },
      "source": [
        "# Write your code here ----------\n",
        "x_train,y_train,x_test,y_test = load_data_cifar10_norm()\n",
        "model = build_cnn_model()\n",
        "model.compile(optimizer =tf.keras.optimizers.Adam(lr=0.005),loss ='sparse_categorical_crossentropy',metrics =['accuracy'])\n",
        "# -------------------------------\n",
        "\n",
        "history = model.fit(x_train, y_train, epochs=10, batch_size=512,\n",
        "                    validation_data=(x_test, y_test))\n",
        "\n",
        "plot_history(history)\n",
        "model.summary()"
      ],
      "execution_count": 25,
      "outputs": [
        {
          "output_type": "stream",
          "text": [
            "/usr/local/lib/python3.7/dist-packages/tensorflow/python/keras/optimizer_v2/optimizer_v2.py:375: UserWarning: The `lr` argument is deprecated, use `learning_rate` instead.\n",
            "  \"The `lr` argument is deprecated, use `learning_rate` instead.\")\n"
          ],
          "name": "stderr"
        },
        {
          "output_type": "stream",
          "text": [
            "Epoch 1/10\n",
            "98/98 [==============================] - 2s 19ms/step - loss: 1.8109 - accuracy: 0.3247 - val_loss: 1.5302 - val_accuracy: 0.4316\n",
            "Epoch 2/10\n",
            "98/98 [==============================] - 2s 16ms/step - loss: 1.4059 - accuracy: 0.4891 - val_loss: 1.3321 - val_accuracy: 0.5225\n",
            "Epoch 3/10\n",
            "98/98 [==============================] - 2s 16ms/step - loss: 1.2616 - accuracy: 0.5486 - val_loss: 1.2844 - val_accuracy: 0.5395\n",
            "Epoch 4/10\n",
            "98/98 [==============================] - 2s 15ms/step - loss: 1.1624 - accuracy: 0.5876 - val_loss: 1.1864 - val_accuracy: 0.5750\n",
            "Epoch 5/10\n",
            "98/98 [==============================] - 2s 16ms/step - loss: 1.0869 - accuracy: 0.6166 - val_loss: 1.0792 - val_accuracy: 0.6131\n",
            "Epoch 6/10\n",
            "98/98 [==============================] - 2s 16ms/step - loss: 1.0245 - accuracy: 0.6392 - val_loss: 1.1330 - val_accuracy: 0.5958\n",
            "Epoch 7/10\n",
            "98/98 [==============================] - 2s 16ms/step - loss: 1.0023 - accuracy: 0.6450 - val_loss: 1.0664 - val_accuracy: 0.6259\n",
            "Epoch 8/10\n",
            "98/98 [==============================] - 2s 16ms/step - loss: 0.9441 - accuracy: 0.6686 - val_loss: 1.0475 - val_accuracy: 0.6288\n",
            "Epoch 9/10\n",
            "98/98 [==============================] - 2s 16ms/step - loss: 0.9102 - accuracy: 0.6790 - val_loss: 0.9917 - val_accuracy: 0.6584\n",
            "Epoch 10/10\n",
            "98/98 [==============================] - 2s 17ms/step - loss: 0.8807 - accuracy: 0.6913 - val_loss: 0.9765 - val_accuracy: 0.6596\n",
            "Model: \"sequential_8\"\n",
            "_________________________________________________________________\n",
            "Layer (type)                 Output Shape              Param #   \n",
            "=================================================================\n",
            "conv2d_21 (Conv2D)           (None, 30, 30, 32)        896       \n",
            "_________________________________________________________________\n",
            "max_pooling2d_21 (MaxPooling (None, 15, 15, 32)        0         \n",
            "_________________________________________________________________\n",
            "conv2d_22 (Conv2D)           (None, 13, 13, 64)        18496     \n",
            "_________________________________________________________________\n",
            "max_pooling2d_22 (MaxPooling (None, 6, 6, 64)          0         \n",
            "_________________________________________________________________\n",
            "conv2d_23 (Conv2D)           (None, 4, 4, 64)          36928     \n",
            "_________________________________________________________________\n",
            "max_pooling2d_23 (MaxPooling (None, 2, 2, 64)          0         \n",
            "_________________________________________________________________\n",
            "flatten_8 (Flatten)          (None, 256)               0         \n",
            "_________________________________________________________________\n",
            "dense_19 (Dense)             (None, 64)                16448     \n",
            "_________________________________________________________________\n",
            "dense_20 (Dense)             (None, 10)                650       \n",
            "=================================================================\n",
            "Total params: 73,418\n",
            "Trainable params: 73,418\n",
            "Non-trainable params: 0\n",
            "_________________________________________________________________\n"
          ],
          "name": "stdout"
        },
        {
          "output_type": "display_data",
          "data": {
            "image/png": "[encoded data removed]",
            "text/plain": [
              "<Figure size 432x288 with 1 Axes>"
            ]
          },
          "metadata": {
            "tags": [],
            "needs_background": "light"
          }
        }
      ]
    },
    {
      "cell_type": "markdown",
      "metadata": {
        "id": "nKwrtPcy750Q"
      },
      "source": [
        "### What do you observe? Compare both the model by looking at their Accuracy vs Epoch plot and total numbers of trainable parameters."
      ]
    },
    {
      "cell_type": "code",
      "metadata": {
        "id": "Q2lFRCoL8N_b",
        "colab": {
          "base_uri": "https://localhost:8080/"
        },
        "outputId": "20e96976-b736-4117-f7f2-a6c765400c3f"
      },
      "source": [
        "print(\"In fc_model number of parameters were quite larger than the cnn_model on the other hand cnn provied more accuracy than fc model with even lesser number of parameters\")"
      ],
      "execution_count": 24,
      "outputs": [
        {
          "output_type": "stream",
          "text": [
            "In fc_model number of parameters were quite larger than the cnn_model on the other hand cnn provied more accuracy than fc model with even lesser number of parameters\n"
          ],
          "name": "stdout"
        }
      ]
    },
    {
      "cell_type": "code",
      "metadata": {
        "id": "fMDpPHVjtHrt"
      },
      "source": [
        ""
      ],
      "execution_count": null,
      "outputs": []
    }
  ]
}